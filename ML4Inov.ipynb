{
  "nbformat": 4,
  "nbformat_minor": 0,
  "metadata": {
    "colab": {
      "provenance": [],
      "gpuType": "T4"
    },
    "kernelspec": {
      "name": "python3",
      "display_name": "Python 3"
    },
    "language_info": {
      "name": "python"
    },
    "accelerator": "GPU"
  },
  "cells": [
    {
      "cell_type": "markdown",
      "source": [
        "# Machine Learning for Innovation ESD.D508"
      ],
      "metadata": {
        "id": "SKPvl5fP5u7G"
      }
    },
    {
      "cell_type": "code",
      "execution_count": null,
      "metadata": {
        "id": "z6tN23m50fi6"
      },
      "outputs": [],
      "source": [
        "# run once when you start the Google Colabratory session\n",
        "# mount google drive\n",
        "from google.colab import drive\n",
        "drive.mount('/content/drive')"
      ]
    },
    {
      "cell_type": "code",
      "source": [
        "%mkdir \"/content/drive/MyDrive/Colab Notebooks/\"\n",
        "%cd \"/content/drive/MyDrive/Colab Notebooks/\"\n",
        "!git clone https://github.com/mastnk/ImRec"
      ],
      "metadata": {
        "id": "e86uWZGc1Nze"
      },
      "execution_count": null,
      "outputs": []
    },
    {
      "cell_type": "code",
      "source": [
        "%cd \"/content/drive/MyDrive/Colab Notebooks/ImRec\"\n",
        "!git pull origin main"
      ],
      "metadata": {
        "id": "6o_poenm5jly"
      },
      "execution_count": null,
      "outputs": []
    },
    {
      "cell_type": "code",
      "source": [
        "%cd \"/content/drive/MyDrive/Colab Notebooks/ImRec/\"\n",
        "!python3 checksum.py"
      ],
      "metadata": {
        "id": "Nl4ubyKj1dgl"
      },
      "execution_count": null,
      "outputs": []
    },
    {
      "cell_type": "code",
      "source": [
        "%cd \"/content/drive/MyDrive/Colab Notebooks/ImRec/logic\"\n",
        "!python3 logical.py\n"
      ],
      "metadata": {
        "id": "V8J4aXq5QtDf"
      },
      "execution_count": null,
      "outputs": []
    },
    {
      "cell_type": "code",
      "source": [
        "%cd \"/content/drive/MyDrive/Colab Notebooks/ImRec/logic\"\n",
        "!python3 minmax.py\n"
      ],
      "metadata": {
        "id": "TqdaSjfTQ7o2"
      },
      "execution_count": null,
      "outputs": []
    },
    {
      "cell_type": "code",
      "source": [
        "%cd \"/content/drive/MyDrive/Colab Notebooks/ImRec/cifar10\"\n",
        "!python3 00first.py"
      ],
      "metadata": {
        "id": "Tzke0mzwzZpz"
      },
      "execution_count": null,
      "outputs": []
    },
    {
      "cell_type": "code",
      "source": [
        "%cd \"/content/drive/MyDrive/Colab Notebooks/ImRec/cifar10\"\n",
        "!python3 04Dropout.py"
      ],
      "metadata": {
        "id": "9o2LMk_M2sNS"
      },
      "execution_count": null,
      "outputs": []
    },
    {
      "cell_type": "code",
      "source": [
        "%cd \"/content/drive/MyDrive/Colab Notebooks/ImRec/cifar10\"\n",
        "!python 05BN.py"
      ],
      "metadata": {
        "id": "IydYfPVizd9-"
      },
      "execution_count": null,
      "outputs": []
    },
    {
      "cell_type": "code",
      "source": [
        "%cd \"/content/drive/MyDrive/Colab Notebooks/ImRec/cifar10\"\n",
        "!python 05BN.py"
      ],
      "metadata": {
        "id": "8RmbpdSH2g3J"
      },
      "execution_count": null,
      "outputs": []
    },
    {
      "cell_type": "code",
      "source": [
        "!pip install img2feat"
      ],
      "metadata": {
        "id": "pFLoLE4VBb4t"
      },
      "execution_count": null,
      "outputs": []
    },
    {
      "cell_type": "code",
      "source": [
        "%cd \"/content/drive/MyDrive/Colab Notebooks/ImRec/multiclass\"\n",
        "!python3 multiclass.py"
      ],
      "metadata": {
        "id": "K-FZ6JecBDMS"
      },
      "execution_count": null,
      "outputs": []
    },
    {
      "cell_type": "code",
      "source": [
        "%cd \"/content/drive/MyDrive/Colab Notebooks/ImRec/multiclass\"\n",
        "!python3 multiclass.py --cnn densenet201 --C 0.1"
      ],
      "metadata": {
        "id": "9RFN43zs3gqz"
      },
      "execution_count": null,
      "outputs": []
    },
    {
      "cell_type": "code",
      "source": [
        "%cd \"/content/drive/MyDrive/Colab Notebooks/ImRec/multiclass\"\n",
        "!python3 multiclass.py -h"
      ],
      "metadata": {
        "id": "4U0M9nuufaSj"
      },
      "execution_count": null,
      "outputs": []
    },
    {
      "cell_type": "code",
      "source": [
        "%cd \"/content/drive/MyDrive/Colab Notebooks/ImRec/autocrop\"\n",
        "!python3 autosquarecrop.py"
      ],
      "metadata": {
        "id": "ZjmR2AUX9Quj"
      },
      "execution_count": null,
      "outputs": []
    }
  ]
}