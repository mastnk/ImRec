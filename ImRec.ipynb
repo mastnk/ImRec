{
  "nbformat": 4,
  "nbformat_minor": 0,
  "metadata": {
    "colab": {
      "provenance": []
    },
    "kernelspec": {
      "name": "python3",
      "display_name": "Python 3"
    },
    "language_info": {
      "name": "python"
    },
    "accelerator": "GPU",
    "gpuClass": "standard"
  },
  "cells": [
    {
      "cell_type": "markdown",
      "source": [
        "# ESD.D508 Machine Learning for Innovation\n",
        "\n",
        "Lecturer: Masayuki Tanaka\n",
        "\n",
        "mtanaka@sc.e.titech.ac.jp\n",
        "\n",
        "[Github ImRec](http://github.com/mastnk/ImRec)\n",
        "\n",
        "[Github img2feat](http://github.com/mastnk/img2feat)\n",
        "\n",
        "Tokyo Tech"
      ],
      "metadata": {
        "id": "6xphiLOA9Bo7"
      }
    },
    {
      "cell_type": "code",
      "execution_count": null,
      "metadata": {
        "id": "MVLU7IZZ2hkp"
      },
      "outputs": [],
      "source": [
        "# run once when you start the Google Colabratory session\n",
        "# mount google drive\n",
        "from google.colab import drive\n",
        "drive.mount('/content/drive')\n"
      ]
    },
    {
      "cell_type": "code",
      "source": [
        "# clone ImRec (https://github.com/mastnk/ImRec)\n",
        "# if you want to reset the code, run this cell\n",
        "%mkdir \"/content/drive/MyDrive/Colab Notebooks/\" \n",
        "%cd \"/content/drive/MyDrive/Colab Notebooks/\"\n",
        "%rm -rf ImRec\n",
        "!git clone https://github.com/mastnk/ImRec\n"
      ],
      "metadata": {
        "id": "rC5A50PB3WdA"
      },
      "execution_count": null,
      "outputs": []
    },
    {
      "cell_type": "code",
      "source": [
        "%cd \"/content/drive/MyDrive/Colab Notebooks/ImRec\"\n",
        "!python3 checksum.py"
      ],
      "metadata": {
        "id": "vjXmNtEJ3q6J"
      },
      "execution_count": null,
      "outputs": []
    },
    {
      "cell_type": "code",
      "source": [
        "%cd \"/content/drive/MyDrive/Colab Notebooks/ImRec/cifar10\"\n",
        "!python3 00first.py"
      ],
      "metadata": {
        "id": "imCigamH4kHy"
      },
      "execution_count": null,
      "outputs": []
    },
    {
      "cell_type": "code",
      "source": [
        "%cd \"/content/drive/MyDrive/Colab Notebooks/ImRec/cifar10\"\n",
        "!python3 01gpu.py"
      ],
      "metadata": {
        "id": "eTgUT-vV5RsL"
      },
      "execution_count": null,
      "outputs": []
    }
  ]
}
