{
  "nbformat": 4,
  "nbformat_minor": 0,
  "metadata": {
    "colab": {
      "provenance": []
    },
    "kernelspec": {
      "name": "python3",
      "display_name": "Python 3"
    },
    "language_info": {
      "name": "python"
    }
  },
  "cells": [
    {
      "cell_type": "markdown",
      "source": [
        "# YOLOv8 sample\n",
        "\n",
        "Reference:\n",
        "\n",
        "- https://tt-tsukumochi.com/archives/6275#google_vignette\n",
        "\n",
        "- https://qiita.com/ez_tera/items/0710b6c3d4db2a49448f"
      ],
      "metadata": {
        "id": "XlpD2zkmXSPY"
      }
    },
    {
      "cell_type": "code",
      "source": [
        "# mount google drive\n",
        "from google.colab import drive\n",
        "drive.mount('/content/drive')"
      ],
      "metadata": {
        "id": "4_QeQ_cfXbIf"
      },
      "execution_count": null,
      "outputs": []
    },
    {
      "cell_type": "code",
      "source": [
        "# install YOLOv8\n",
        "!pip3 install ultralytics"
      ],
      "metadata": {
        "id": "W0whz3B_ZpHN"
      },
      "execution_count": null,
      "outputs": []
    },
    {
      "cell_type": "code",
      "source": [
        "# make folder\n",
        "%cd \"/content/drive/MyDrive/\"\n",
        "%mkdir YOLOv8sample\n",
        "%cd YOLOv8sample"
      ],
      "metadata": {
        "id": "pqX86ujsXiZZ"
      },
      "execution_count": null,
      "outputs": []
    },
    {
      "cell_type": "code",
      "source": [
        "# load yolo model\n",
        "%cd \"/content/drive/MyDrive/YOLOv8sample\"\n",
        "from ultralytics import YOLO\n",
        "model = YOLO(\"yolov8x.pt\")"
      ],
      "metadata": {
        "id": "G68N-6V9ax5j"
      },
      "execution_count": null,
      "outputs": []
    },
    {
      "cell_type": "code",
      "source": [
        "# run sample with bus.jpg\n",
        "%cd \"/content/drive/MyDrive/YOLOv8sample\"\n",
        "results = model(\"https://ultralytics.com/images/bus.jpg\",save=True)\n"
      ],
      "metadata": {
        "id": "Fsjpx87GbZpY"
      },
      "execution_count": null,
      "outputs": []
    },
    {
      "cell_type": "code",
      "source": [
        "# run sample with bus.jpg\n",
        "%cd \"/content/drive/MyDrive/YOLOv8sample\"\n",
        "results = model(\"bus.jpg\",save=True)"
      ],
      "metadata": {
        "id": "84B_Mm4_iysn"
      },
      "execution_count": null,
      "outputs": []
    },
    {
      "cell_type": "code",
      "source": [
        "%cd \"/content/drive/MyDrive/YOLOv8sample\"\n",
        "from IPython.display import Image,display\n",
        "img = Image(\"runs/detect/predict/bus.jpg\")\n",
        "display(img)"
      ],
      "metadata": {
        "id": "I_2QDm02cyFh"
      },
      "execution_count": null,
      "outputs": []
    }
  ]
}